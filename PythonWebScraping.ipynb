{
 "cells": [
  {
   "cell_type": "code",
   "execution_count": 17,
   "metadata": {},
   "outputs": [],
   "source": [
    "import requests\n",
    "from bs4 import BeautifulSoup"
   ]
  },
  {
   "cell_type": "code",
   "execution_count": 18,
   "metadata": {},
   "outputs": [
    {
     "name": "stdout",
     "output_type": "stream",
     "text": [
      "Collecting package metadata (current_repodata.json): done\n",
      "Solving environment: done\n",
      "\n",
      "# All requested packages already installed.\n",
      "\n"
     ]
    }
   ],
   "source": [
    "!conda install --yes beautifulsoup4"
   ]
  },
  {
   "cell_type": "code",
   "execution_count": 19,
   "metadata": {},
   "outputs": [],
   "source": [
    "source = requests.get(f'https://data.richmond.com/salaries/2018/state/university-of-virginia/tony-bennett')\n"
   ]
  },
  {
   "cell_type": "code",
   "execution_count": 20,
   "metadata": {},
   "outputs": [
    {
     "name": "stdout",
     "output_type": "stream",
     "text": [
      "<div class=\"col-12 col-lg-4 pay\">\n",
      "<img alt=\"Tony Bennett\" src=\"https://bloximages.newyork1.vip.townnews.com/richmond.com/content/tncms/assets/v3/editorial/6/49/6490d750-2b27-11e9-8b63-bbd7a8c52ab0/5c5cb0d3de5d7.image.jpg\" style=\"width: 100%;\"/>\n",
      "<div class=\"well\">\n",
      "<p class=\"text-muted\">2018-19 total compensation</p>\n",
      "<h2 class=\"pay\" id=\"paytotal\">$525,000</h2>\n",
      "<p class=\"text-muted\">Pay components:</p>\n",
      "<script id=\"pay_temp1\" type=\"text/html\">\n",
      "\t\t\t\t\t<% var pay = [ {'name': 'Base salary', 'amount': 525000 } ]; %>\n",
      "\t\t\t\t\t\t<% _.each( _.sortBy(pay, 'name'), function( paytype ){ %>\n",
      "                    <p class=\"small\" style=\"text-align:left; margin-bottom:0; margin:15px 0 5px 0;\"><%= paytype.name %>: $<%= addCommas(paytype.amount) %></p>\n",
      "                        <div style=\"margin:0; background:#eee; height:20px;\">\n",
      "\t\t\t\t\t\t<div style=\"margin:0; float:left; background:#337ab7; height:100%; width:<%= getPct(paytype.amount, 525000) %>%;\"></div>\n",
      "                        </div>\n",
      "                    <% }); %>\n",
      "                    </script>\n",
      "<div id=\"bars1\"></div>\n",
      "</div><!--End of well-->\n",
      "</div>\n"
     ]
    }
   ],
   "source": [
    "soup = BeautifulSoup(source.text, 'html.parser')\n",
    "\n",
    "main_box = soup.find(\"div\", class_='pay')\n",
    "print(main_box)\n",
    "    \n",
    "    \n"
   ]
  },
  {
   "cell_type": "code",
   "execution_count": 21,
   "metadata": {},
   "outputs": [
    {
     "name": "stdout",
     "output_type": "stream",
     "text": [
      "$525,000\n"
     ]
    }
   ],
   "source": [
    "salary = main_box.find('h2').text\n",
    "\n",
    "print(salary)\n"
   ]
  },
  {
   "cell_type": "code",
   "execution_count": 24,
   "metadata": {
    "scrolled": true
   },
   "outputs": [
    {
     "name": "stdout",
     "output_type": "stream",
     "text": [
      "2\n",
      "<div class=\"col-12 col-lg-8\">\n",
      "<div><!--Wrapper-->\n",
      "<div><!--First Item of first row-->\n",
      "<h1><b>\n",
      "<span id=\"personhed\">Tony Bennett</span>\n",
      "<br/>\n",
      "<span class=\"small text-muted\" id=\"personjob\">Basketball coach</span>\n",
      "</b></h1>\n",
      "</div><!--End of first item of first row-->\n",
      "<!-- row2 -->\n",
      "<div class=\"row\"><!-- style=\"border-style: dashed; border-color:bisque;\"-->\n",
      "<!--First div in second row-->\n",
      "<div class=\"col-12 col-lg-4 pay\">\n",
      "<img alt=\"Tony Bennett\" src=\"https://bloximages.newyork1.vip.townnews.com/richmond.com/content/tncms/assets/v3/editorial/6/49/6490d750-2b27-11e9-8b63-bbd7a8c52ab0/5c5cb0d3de5d7.image.jpg\" style=\"width: 100%;\"/>\n",
      "<div class=\"well\">\n",
      "<p class=\"text-muted\">2018-19 total compensation</p>\n",
      "<h2 class=\"pay\" id=\"paytotal\">$525,000</h2>\n",
      "<p class=\"text-muted\">Pay components:</p>\n",
      "<script id=\"pay_temp1\" type=\"text/html\">\n",
      "\t\t\t\t\t<% var pay = [ {'name': 'Base salary', 'amount': 525000 } ]; %>\n",
      "\t\t\t\t\t\t<% _.each( _.sortBy(pay, 'name'), function( paytype ){ %>\n",
      "                    <p class=\"small\" style=\"text-align:left; margin-bottom:0; margin:15px 0 5px 0;\"><%= paytype.name %>: $<%= addCommas(paytype.amount) %></p>\n",
      "                        <div style=\"margin:0; background:#eee; height:20px;\">\n",
      "\t\t\t\t\t\t<div style=\"margin:0; float:left; background:#337ab7; height:100%; width:<%= getPct(paytype.amount, 525000) %>%;\"></div>\n",
      "                        </div>\n",
      "                    <% }); %>\n",
      "                    </script>\n",
      "<div id=\"bars1\"></div>\n",
      "</div><!--End of well-->\n",
      "</div><!--END of col-4 pay and end of first div of second row-->\n",
      "<!--Second div of second row-->\n",
      "<div class=\"col-12 col-lg-8\">\n",
      "<table class=\"table\">\n",
      "<tbody>\n",
      "<tr><td>University of Virginia rank</td><td>9 of 8,582<!--not null --></td></tr>\n",
      "<tr><td>% of University of Virginia median</td><td>783%</td></tr>\n",
      "<tr><td>Work location</td><td>Charlottesville</td></tr>\n",
      "<tr><td>Hire date</td><td>4/1/2009</td></tr>\n",
      "</tbody>\n",
      "</table>\n",
      "</div><!--End of second div of second row-->\n",
      "</div><!-- end row2 -->\n",
      "</div><!-- End of col-8 col-sm12 and end of wrapper-->\n",
      "</div>\n",
      "\n",
      "<div class=\"col-12 col-lg-8\">\n",
      "<table class=\"table\">\n",
      "<tbody>\n",
      "<tr><td>University of Virginia rank</td><td>9 of 8,582<!--not null --></td></tr>\n",
      "<tr><td>% of University of Virginia median</td><td>783%</td></tr>\n",
      "<tr><td>Work location</td><td>Charlottesville</td></tr>\n",
      "<tr><td>Hire date</td><td>4/1/2009</td></tr>\n",
      "</tbody>\n",
      "</table>\n",
      "</div>\n",
      "\n"
     ]
    }
   ],
   "source": [
    "#or you could use the .find_all() function\n",
    "#this returns a list of items\n",
    "\n",
    "soup = BeautifulSoup(source.text, 'html.parser')  #html.parser allows handling of HTML files\n",
    "\n",
    "main_box = soup.find_all(\"div\", class_='col-12 col-lg-8')\n",
    "print(len(main_box))\n",
    "\n",
    "for i in main_box:\n",
    "    print(i)\n",
    "    print()"
   ]
  },
  {
   "cell_type": "code",
   "execution_count": 29,
   "metadata": {},
   "outputs": [
    {
     "name": "stdout",
     "output_type": "stream",
     "text": [
      "['tony-bennett', 'james-e-ryan', 'bronco-mendenhall', 'carla-williams', 'scott-c-beardsley', 'craig-benson', 'ian-baucom']\n"
     ]
    }
   ],
   "source": [
    "#let's do a little more interesting example\n",
    "names = ['Tony Bennett', 'James E Ryan', 'Bronco Mendenhall', 'Carla Williams', 'Scott C Beardsley', 'Craig Benson', \n",
    "        'Ian Baucom']\n",
    "\n",
    "formatted_names_of_important_people = []\n",
    "\n",
    "#start with a little string formatting. I am formatting each name so I can insert it into the URL\n",
    "for important_person in names:\n",
    "    important_person = important_person.replace(' ', '-')\n",
    "    important_person = important_person.lower()\n",
    "    formatted_names_of_important_people.append(important_person)\n",
    "\n",
    "print(formatted_names_of_important_people)"
   ]
  },
  {
   "cell_type": "code",
   "execution_count": 31,
   "metadata": {},
   "outputs": [
    {
     "name": "stdout",
     "output_type": "stream",
     "text": [
      "tony-bennett $525,000\n",
      "james-e-ryan $962,875\n",
      "bronco-mendenhall $500,000\n",
      "carla-williams $566,500\n",
      "scott-c-beardsley $582,099\n",
      "craig-benson $421,300\n",
      "ian-baucom $564,999\n"
     ]
    }
   ],
   "source": [
    "#now I will use f-strings formatting to insert each name into the source URL\n",
    "for name in formatted_names_of_important_people:\n",
    "    \n",
    "    source = requests.get(f'https://data.richmond.com/salaries/2018/state/university-of-virginia/{name}')\n",
    "    soup = BeautifulSoup(source.text, 'html.parser')\n",
    "\n",
    "    main_box = soup.find(\"div\", class_='pay')\n",
    "    salary = main_box.find('h2').text\n",
    "    \n",
    "    print(name, salary)\n",
    "\n"
   ]
  },
  {
   "cell_type": "code",
   "execution_count": null,
   "metadata": {},
   "outputs": [],
   "source": [
    "#but let's make this look a little nicer"
   ]
  },
  {
   "cell_type": "code",
   "execution_count": null,
   "metadata": {},
   "outputs": [],
   "source": []
  }
 ],
 "metadata": {
  "kernelspec": {
   "display_name": "Python 3",
   "language": "python",
   "name": "python3"
  },
  "language_info": {
   "codemirror_mode": {
    "name": "ipython",
    "version": 3
   },
   "file_extension": ".py",
   "mimetype": "text/x-python",
   "name": "python",
   "nbconvert_exporter": "python",
   "pygments_lexer": "ipython3",
   "version": "3.7.3"
  }
 },
 "nbformat": 4,
 "nbformat_minor": 2
}
